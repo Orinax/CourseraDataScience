{
 "cells": [
  {
   "cell_type": "markdown",
   "metadata": {},
   "source": [
    "<center>\n",
    "    <img src=\"https://s3-api.us-geo.objectstorage.softlayer.net/cf-courses-data/CognitiveClass/Logos/organization_logo/organization_logo.png\" width=\"300\" alt=\"cognitiveclass.ai logo\"  />\n",
    "</center>\n"
   ]
  },
  {
   "cell_type": "markdown",
   "metadata": {},
   "source": [
    "#### Add your code below following the instructions given in the course\n"
   ]
  },
  {
   "cell_type": "markdown",
   "metadata": {},
   "source": [
    "<h1>My Jupyter Notebook on IBM Watson Studio<h1>"
   ]
  },
  {
   "cell_type": "markdown",
   "metadata": {},
   "source": [
    "**Chauncey Pelton**\n",
    "<br>\n",
    "Currently working in education, but looking to change careers to enter the tech industry."
   ]
  },
  {
   "cell_type": "markdown",
   "metadata": {},
   "source": [
    "*I am interested in data science because over the past few years I have been learning more and more about spreadsheets and many of the advanced functions that can be used with them. Eventually I ran into the need to 'query' large data sets, and a friend of mine told me about SQL. That was enough to set me off on more learning, and I soon found out about the pandas library in Python, and started exploring even larger data sets with pandas. I am not sure what it is, but there is just something about being able to work with big data that I find fascinating. It is almost as if there are hidden puzzles waiting to be solved, and from all that I have learned so far, it seems as though learning more about data science will help equip me with the tools needed to solve those puzzles.*"
   ]
  },
  {
   "cell_type": "markdown",
   "metadata": {},
   "source": [
    "<h3>The code in the cell below is multiplying the numbers 1 through 9, storing the product in a variable, and then printing the results.<h3>"
   ]
  },
  {
   "cell_type": "code",
   "execution_count": 1,
   "metadata": {},
   "outputs": [
    {
     "name": "stdout",
     "output_type": "stream",
     "text": [
      "362880\n"
     ]
    }
   ],
   "source": [
    "x = 1 * 2 * 3 * 4 * 5 * 6 * 7 * 8 * 9\n",
    "print(x)"
   ]
  },
  {
   "cell_type": "markdown",
   "metadata": {},
   "source": [
    "***"
   ]
  },
  {
   "cell_type": "markdown",
   "metadata": {},
   "source": [
    "Reasons I like Jupyter Notebooks:\n",
    "<br>\n",
    "- They mix regular text and code snipets together with ease.\n",
    "- The keyboard shortcuts are fun to use.\n",
    "- The name is 'Jupyter' because of Julia, Python, and R."
   ]
  },
  {
   "cell_type": "markdown",
   "metadata": {},
   "source": [
    "Here is the link to this notebook on GitHub:\n",
    "<br>\n",
    "https://github.com/Orinax/CourseraDataScience"
   ]
  },
  {
   "cell_type": "code",
   "execution_count": null,
   "metadata": {},
   "outputs": [],
   "source": []
  }
 ],
 "metadata": {
  "kernelspec": {
   "display_name": "Python",
   "language": "python",
   "name": "conda-env-python-py"
  },
  "language_info": {
   "codemirror_mode": {
    "name": "ipython",
    "version": 3
   },
   "file_extension": ".py",
   "mimetype": "text/x-python",
   "name": "python",
   "nbconvert_exporter": "python",
   "pygments_lexer": "ipython3",
   "version": "3.7.12"
  },
  "toc-showcode": false,
  "toc-showmarkdowntxt": true,
  "toc-showtags": false
 },
 "nbformat": 4,
 "nbformat_minor": 4
}
